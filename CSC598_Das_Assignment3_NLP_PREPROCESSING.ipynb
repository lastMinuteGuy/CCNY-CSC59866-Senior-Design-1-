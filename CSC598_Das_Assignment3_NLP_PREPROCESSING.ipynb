{
  "nbformat": 4,
  "nbformat_minor": 0,
  "metadata": {
    "colab": {
      "provenance": []
    },
    "kernelspec": {
      "name": "python3",
      "display_name": "Python 3"
    },
    "language_info": {
      "name": "python"
    }
  },
  "cells": [
    {
      "cell_type": "code",
      "execution_count": 12,
      "metadata": {
        "colab": {
          "base_uri": "https://localhost:8080/",
          "height": 143
        },
        "id": "c8EknTUBfh1Q",
        "outputId": "505db980-d3ff-4482-97f0-5c33d9270e1a"
      },
      "outputs": [
        {
          "output_type": "display_data",
          "data": {
            "text/plain": [
              "<IPython.core.display.HTML object>"
            ],
            "text/html": [
              "\n",
              "     <input type=\"file\" id=\"files-927e09cf-cf27-4954-b282-83a7e3fc0e96\" name=\"files[]\" multiple disabled\n",
              "        style=\"border:none\" />\n",
              "     <output id=\"result-927e09cf-cf27-4954-b282-83a7e3fc0e96\">\n",
              "      Upload widget is only available when the cell has been executed in the\n",
              "      current browser session. Please rerun this cell to enable.\n",
              "      </output>\n",
              "      <script>// Copyright 2017 Google LLC\n",
              "//\n",
              "// Licensed under the Apache License, Version 2.0 (the \"License\");\n",
              "// you may not use this file except in compliance with the License.\n",
              "// You may obtain a copy of the License at\n",
              "//\n",
              "//      http://www.apache.org/licenses/LICENSE-2.0\n",
              "//\n",
              "// Unless required by applicable law or agreed to in writing, software\n",
              "// distributed under the License is distributed on an \"AS IS\" BASIS,\n",
              "// WITHOUT WARRANTIES OR CONDITIONS OF ANY KIND, either express or implied.\n",
              "// See the License for the specific language governing permissions and\n",
              "// limitations under the License.\n",
              "\n",
              "/**\n",
              " * @fileoverview Helpers for google.colab Python module.\n",
              " */\n",
              "(function(scope) {\n",
              "function span(text, styleAttributes = {}) {\n",
              "  const element = document.createElement('span');\n",
              "  element.textContent = text;\n",
              "  for (const key of Object.keys(styleAttributes)) {\n",
              "    element.style[key] = styleAttributes[key];\n",
              "  }\n",
              "  return element;\n",
              "}\n",
              "\n",
              "// Max number of bytes which will be uploaded at a time.\n",
              "const MAX_PAYLOAD_SIZE = 100 * 1024;\n",
              "\n",
              "function _uploadFiles(inputId, outputId) {\n",
              "  const steps = uploadFilesStep(inputId, outputId);\n",
              "  const outputElement = document.getElementById(outputId);\n",
              "  // Cache steps on the outputElement to make it available for the next call\n",
              "  // to uploadFilesContinue from Python.\n",
              "  outputElement.steps = steps;\n",
              "\n",
              "  return _uploadFilesContinue(outputId);\n",
              "}\n",
              "\n",
              "// This is roughly an async generator (not supported in the browser yet),\n",
              "// where there are multiple asynchronous steps and the Python side is going\n",
              "// to poll for completion of each step.\n",
              "// This uses a Promise to block the python side on completion of each step,\n",
              "// then passes the result of the previous step as the input to the next step.\n",
              "function _uploadFilesContinue(outputId) {\n",
              "  const outputElement = document.getElementById(outputId);\n",
              "  const steps = outputElement.steps;\n",
              "\n",
              "  const next = steps.next(outputElement.lastPromiseValue);\n",
              "  return Promise.resolve(next.value.promise).then((value) => {\n",
              "    // Cache the last promise value to make it available to the next\n",
              "    // step of the generator.\n",
              "    outputElement.lastPromiseValue = value;\n",
              "    return next.value.response;\n",
              "  });\n",
              "}\n",
              "\n",
              "/**\n",
              " * Generator function which is called between each async step of the upload\n",
              " * process.\n",
              " * @param {string} inputId Element ID of the input file picker element.\n",
              " * @param {string} outputId Element ID of the output display.\n",
              " * @return {!Iterable<!Object>} Iterable of next steps.\n",
              " */\n",
              "function* uploadFilesStep(inputId, outputId) {\n",
              "  const inputElement = document.getElementById(inputId);\n",
              "  inputElement.disabled = false;\n",
              "\n",
              "  const outputElement = document.getElementById(outputId);\n",
              "  outputElement.innerHTML = '';\n",
              "\n",
              "  const pickedPromise = new Promise((resolve) => {\n",
              "    inputElement.addEventListener('change', (e) => {\n",
              "      resolve(e.target.files);\n",
              "    });\n",
              "  });\n",
              "\n",
              "  const cancel = document.createElement('button');\n",
              "  inputElement.parentElement.appendChild(cancel);\n",
              "  cancel.textContent = 'Cancel upload';\n",
              "  const cancelPromise = new Promise((resolve) => {\n",
              "    cancel.onclick = () => {\n",
              "      resolve(null);\n",
              "    };\n",
              "  });\n",
              "\n",
              "  // Wait for the user to pick the files.\n",
              "  const files = yield {\n",
              "    promise: Promise.race([pickedPromise, cancelPromise]),\n",
              "    response: {\n",
              "      action: 'starting',\n",
              "    }\n",
              "  };\n",
              "\n",
              "  cancel.remove();\n",
              "\n",
              "  // Disable the input element since further picks are not allowed.\n",
              "  inputElement.disabled = true;\n",
              "\n",
              "  if (!files) {\n",
              "    return {\n",
              "      response: {\n",
              "        action: 'complete',\n",
              "      }\n",
              "    };\n",
              "  }\n",
              "\n",
              "  for (const file of files) {\n",
              "    const li = document.createElement('li');\n",
              "    li.append(span(file.name, {fontWeight: 'bold'}));\n",
              "    li.append(span(\n",
              "        `(${file.type || 'n/a'}) - ${file.size} bytes, ` +\n",
              "        `last modified: ${\n",
              "            file.lastModifiedDate ? file.lastModifiedDate.toLocaleDateString() :\n",
              "                                    'n/a'} - `));\n",
              "    const percent = span('0% done');\n",
              "    li.appendChild(percent);\n",
              "\n",
              "    outputElement.appendChild(li);\n",
              "\n",
              "    const fileDataPromise = new Promise((resolve) => {\n",
              "      const reader = new FileReader();\n",
              "      reader.onload = (e) => {\n",
              "        resolve(e.target.result);\n",
              "      };\n",
              "      reader.readAsArrayBuffer(file);\n",
              "    });\n",
              "    // Wait for the data to be ready.\n",
              "    let fileData = yield {\n",
              "      promise: fileDataPromise,\n",
              "      response: {\n",
              "        action: 'continue',\n",
              "      }\n",
              "    };\n",
              "\n",
              "    // Use a chunked sending to avoid message size limits. See b/62115660.\n",
              "    let position = 0;\n",
              "    do {\n",
              "      const length = Math.min(fileData.byteLength - position, MAX_PAYLOAD_SIZE);\n",
              "      const chunk = new Uint8Array(fileData, position, length);\n",
              "      position += length;\n",
              "\n",
              "      const base64 = btoa(String.fromCharCode.apply(null, chunk));\n",
              "      yield {\n",
              "        response: {\n",
              "          action: 'append',\n",
              "          file: file.name,\n",
              "          data: base64,\n",
              "        },\n",
              "      };\n",
              "\n",
              "      let percentDone = fileData.byteLength === 0 ?\n",
              "          100 :\n",
              "          Math.round((position / fileData.byteLength) * 100);\n",
              "      percent.textContent = `${percentDone}% done`;\n",
              "\n",
              "    } while (position < fileData.byteLength);\n",
              "  }\n",
              "\n",
              "  // All done.\n",
              "  yield {\n",
              "    response: {\n",
              "      action: 'complete',\n",
              "    }\n",
              "  };\n",
              "}\n",
              "\n",
              "scope.google = scope.google || {};\n",
              "scope.google.colab = scope.google.colab || {};\n",
              "scope.google.colab._files = {\n",
              "  _uploadFiles,\n",
              "  _uploadFilesContinue,\n",
              "};\n",
              "})(self);\n",
              "</script> "
            ]
          },
          "metadata": {}
        },
        {
          "output_type": "stream",
          "name": "stdout",
          "text": [
            "Saving brown.dev.txt to brown.dev.txt\n",
            "Saving brown.test.txt to brown.test.txt\n",
            "Saving brown.train.txt to brown.train.txt\n"
          ]
        }
      ],
      "source": [
        "from google.colab import files\n",
        "\n",
        "uploaded = files.upload()\n"
      ]
    },
    {
      "cell_type": "code",
      "source": [
        "# Define file paths based on the uploaded files\n",
        "train_data_path = 'brown.train.txt'\n",
        "dev_data_path = 'brown.dev.txt'\n",
        "test_data_path = 'brown.test.txt'\n",
        "\n",
        "# Load data\n",
        "def load_data(file_path):\n",
        "    with open(file_path, 'r') as file:\n",
        "        data = file.readlines()\n",
        "    return data\n",
        "\n",
        "# Load datasets\n",
        "train_data = load_data(train_data_path)\n",
        "dev_data = load_data(dev_data_path)\n",
        "test_data = load_data(test_data_path)\n"
      ],
      "metadata": {
        "id": "q4A-Zff4hmvQ"
      },
      "execution_count": 13,
      "outputs": []
    },
    {
      "cell_type": "code",
      "source": [
        "def preprocess(data):\n",
        "    preprocessed_data = []\n",
        "    for sentence in data:\n",
        "        # Lowercase the sentence\n",
        "        sentence = sentence.lower().strip()\n",
        "        # Add start and end tokens\n",
        "        sentence = f\"<s> {sentence} </s>\"\n",
        "        preprocessed_data.append(sentence)\n",
        "    return preprocessed_data\n",
        "\n",
        "# Preprocess the datasets\n",
        "train_data = preprocess(train_data)\n",
        "dev_data = preprocess(dev_data)\n",
        "test_data = preprocess(test_data)\n"
      ],
      "metadata": {
        "id": "GJVPxjUWfnjQ"
      },
      "execution_count": 14,
      "outputs": []
    },
    {
      "cell_type": "code",
      "source": [
        "from collections import Counter\n",
        "\n",
        "# Count word frequencies in the training data\n",
        "word_counts = Counter(\" \".join(train_data).split())\n",
        "\n",
        "# Replace rare words with <unk>\n",
        "def replace_rare_words(data, word_counts, threshold=1):\n",
        "    processed_data = []\n",
        "    for sentence in data:\n",
        "        processed_sentence = []\n",
        "        for word in sentence.split():\n",
        "            if word_counts[word] <= threshold:\n",
        "                processed_sentence.append(\"<unk>\")\n",
        "            else:\n",
        "                processed_sentence.append(word)\n",
        "        processed_data.append(\" \".join(processed_sentence))\n",
        "    return processed_data\n",
        "\n",
        "# Apply the transformation\n",
        "train_data = replace_rare_words(train_data, word_counts)\n",
        "test_data = replace_rare_words(test_data, word_counts)\n"
      ],
      "metadata": {
        "id": "r8tw3skcj6MK"
      },
      "execution_count": 15,
      "outputs": []
    },
    {
      "cell_type": "code",
      "source": [
        "import numpy as np\n",
        "\n",
        "class UnigramModel:\n",
        "    def __init__(self):\n",
        "        self.model = None\n",
        "\n",
        "    def train(self, data):\n",
        "        word_counts = Counter(\" \".join(data).split())\n",
        "        total_words = sum(word_counts.values())\n",
        "        self.model = {word: count / total_words for word, count in word_counts.items()}\n",
        "\n",
        "    def probability(self, word):\n",
        "        return self.model.get(word, self.model.get(\"<unk>\", 0))\n",
        "\n",
        "class BigramModel:\n",
        "    def __init__(self, smoothing=False):\n",
        "        self.bigram_counts = None\n",
        "        self.unigram_counts = None\n",
        "        self.smoothing = smoothing\n",
        "\n",
        "    def train(self, data):\n",
        "        bigram_counts = Counter()\n",
        "        unigram_counts = Counter()\n",
        "        for sentence in data:\n",
        "            words = sentence.split()\n",
        "            unigram_counts.update(words)\n",
        "            bigram_counts.update([(words[i], words[i+1]) for i in range(len(words) - 1)])\n",
        "        self.bigram_counts = bigram_counts\n",
        "        self.unigram_counts = unigram_counts\n",
        "\n",
        "    def probability(self, word1, word2):\n",
        "        bigram_count = self.bigram_counts.get((word1, word2), 0)\n",
        "        unigram_count = self.unigram_counts.get(word1, 0)\n",
        "        if self.smoothing:\n",
        "            bigram_count += 1\n",
        "            unigram_count += len(self.unigram_counts)\n",
        "        return bigram_count / unigram_count if unigram_count > 0 else 0\n",
        "\n",
        "# Train unigram model\n",
        "unigram_model = UnigramModel()\n",
        "unigram_model.train(train_data)\n",
        "\n",
        "# Train bigram models\n",
        "bigram_model = BigramModel()\n",
        "bigram_model.train(train_data)\n",
        "\n",
        "bigram_addone_model = BigramModel(smoothing=True)\n",
        "bigram_addone_model.train(train_data)\n"
      ],
      "metadata": {
        "id": "-Nh4pVtLj8gm"
      },
      "execution_count": 16,
      "outputs": []
    },
    {
      "cell_type": "code",
      "source": [
        "unique_words = len(unigram_model.model)\n",
        "total_words = sum(Counter(\" \".join(train_data).split()).values())\n",
        "\n",
        "print(f\"Number of unique word types: {unique_words}\")\n",
        "print(f\"Number of word tokens: {total_words}\")\n"
      ],
      "metadata": {
        "colab": {
          "base_uri": "https://localhost:8080/"
        },
        "id": "M9BuV6PEj-aT",
        "outputId": "1e4fec76-4430-489b-e0e2-8c08e3f25eff"
      },
      "execution_count": 17,
      "outputs": [
        {
          "output_type": "stream",
          "name": "stdout",
          "text": [
            "Number of unique word types: 24796\n",
            "Number of word tokens: 1018784\n"
          ]
        }
      ]
    },
    {
      "cell_type": "code",
      "source": [
        "def unknown_words_percentage(test_data, word_counts):\n",
        "    total_tokens = 0\n",
        "    unknown_tokens = 0\n",
        "    unique_test_words = set()\n",
        "    unknown_test_words = set()\n",
        "\n",
        "    for sentence in test_data:\n",
        "        words = sentence.split()\n",
        "        total_tokens += len(words)\n",
        "        unique_test_words.update(words)\n",
        "        unknown_tokens += sum(1 for word in words if word_counts[word] == 0)\n",
        "        unknown_test_words.update([word for word in words if word_counts[word] == 0])\n",
        "\n",
        "    return (unknown_tokens / total_tokens) * 100, (len(unknown_test_words) / len(unique_test_words)) * 100\n",
        "\n",
        "unknown_token_percentage, unknown_type_percentage = unknown_words_percentage(test_data, word_counts)\n",
        "print(f\"Percentage of unknown word tokens in test data: {unknown_token_percentage}%\")\n",
        "print(f\"Percentage of unknown word types in test data: {unknown_type_percentage}%\")\n"
      ],
      "metadata": {
        "colab": {
          "base_uri": "https://localhost:8080/"
        },
        "id": "SnLxdSAAkBoH",
        "outputId": "664c165e-b045-42f3-8657-b375955dd454"
      },
      "execution_count": 18,
      "outputs": [
        {
          "output_type": "stream",
          "name": "stdout",
          "text": [
            "Percentage of unknown word tokens in test data: 3.2206874447910074%\n",
            "Percentage of unknown word types in test data: 0.008508465923593977%\n"
          ]
        }
      ]
    },
    {
      "cell_type": "code",
      "source": [
        "sentences = [\n",
        "    \"he was laughed off the screen .\",\n",
        "    \"there was no compulsion behind them .\",\n",
        "    \"i look forward to hearing your reply .\"\n",
        "]\n",
        "\n",
        "def log_probability_sentence(sentence, model, model_type=\"unigram\"):\n",
        "    words = sentence.split()\n",
        "    log_prob = 0\n",
        "    if model_type == \"unigram\":\n",
        "        for word in words:\n",
        "            prob = model.probability(word)\n",
        "            log_prob += np.log(prob) if prob > 0 else -np.inf\n",
        "    elif model_type == \"bigram\":\n",
        "        for i in range(len(words) - 1):\n",
        "            prob = model.probability(words[i], words[i + 1])\n",
        "            log_prob += np.log(prob) if prob > 0 else -np.inf\n",
        "    return log_prob\n",
        "\n",
        "for sentence in sentences:\n",
        "    print(f\"Sentence: {sentence}\")\n",
        "    print(f\"Unigram log probability: {log_probability_sentence(sentence, unigram_model, 'unigram')}\")\n",
        "    print(f\"Bigram log probability: {log_probability_sentence(sentence, bigram_model, 'bigram')}\")\n",
        "    print(f\"Bigram Add-One log probability: {log_probability_sentence(sentence, bigram_addone_model, 'bigram')}\")\n",
        "    print(\"\\n\")\n"
      ],
      "metadata": {
        "colab": {
          "base_uri": "https://localhost:8080/"
        },
        "id": "kHufze7LkFUl",
        "outputId": "75985582-db30-43cc-e88b-55c58e2ebea4"
      },
      "execution_count": 19,
      "outputs": [
        {
          "output_type": "stream",
          "name": "stdout",
          "text": [
            "Sentence: he was laughed off the screen .\n",
            "Unigram log probability: -43.79932926890675\n",
            "Bigram log probability: -26.275048110491174\n",
            "Bigram Add-One log probability: -44.69653560039508\n",
            "\n",
            "\n",
            "Sentence: there was no compulsion behind them .\n",
            "Unigram log probability: -47.61873728327696\n",
            "Bigram log probability: -19.83630885635591\n",
            "Bigram Add-One log probability: -40.90488974022167\n",
            "\n",
            "\n",
            "Sentence: i look forward to hearing your reply .\n",
            "Unigram log probability: -57.23484105538851\n",
            "Bigram log probability: -inf\n",
            "Bigram Add-One log probability: -62.16420607795311\n",
            "\n",
            "\n"
          ]
        }
      ]
    },
    {
      "cell_type": "code",
      "source": [
        "def perplexity(test_data, model, model_type=\"unigram\"):\n",
        "    log_prob_sum = 0\n",
        "    N = 0\n",
        "    for sentence in test_data:\n",
        "        words = sentence.split()\n",
        "        N += len(words)\n",
        "        log_prob_sum += log_probability_sentence(sentence, model, model_type)\n",
        "    return np.exp(-log_prob_sum / N)\n",
        "\n",
        "print(f\"Unigram model perplexity: {perplexity(test_data, unigram_model, 'unigram')}\")\n",
        "print(f\"Bigram model perplexity: {perplexity(test_data, bigram_model, 'bigram')}\")\n",
        "print(f\"Bigram Add-One model perplexity: {perplexity(test_data, bigram_addone_model, 'bigram')}\")\n"
      ],
      "metadata": {
        "colab": {
          "base_uri": "https://localhost:8080/"
        },
        "id": "i-ZsXeqGkHyy",
        "outputId": "5446e66a-f244-4f05-e020-7f72d6d0df92"
      },
      "execution_count": 20,
      "outputs": [
        {
          "output_type": "stream",
          "name": "stdout",
          "text": [
            "Unigram model perplexity: 623.5664891915749\n",
            "Bigram model perplexity: inf\n",
            "Bigram Add-One model perplexity: 1220.68388569207\n"
          ]
        }
      ]
    },
    {
      "cell_type": "code",
      "source": [],
      "metadata": {
        "id": "VtdFbP4MkKQc"
      },
      "execution_count": null,
      "outputs": []
    }
  ]
}